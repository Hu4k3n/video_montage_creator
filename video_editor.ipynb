{
 "cells": [
  {
   "cell_type": "code",
   "execution_count": 12,
   "metadata": {},
   "outputs": [],
   "source": [
    "from moviepy.video.io.ffmpeg_tools import ffmpeg_extract_subclip"
   ]
  },
  {
   "cell_type": "code",
   "execution_count": 13,
   "metadata": {},
   "outputs": [],
   "source": [
    "from os import walk "
   ]
  },
  {
   "cell_type": "code",
   "execution_count": 4,
   "metadata": {},
   "outputs": [],
   "source": [
    "list=os.listdir('files')"
   ]
  },
  {
   "cell_type": "code",
   "execution_count": 14,
   "metadata": {},
   "outputs": [
    {
     "data": {
      "text/plain": [
       "['op spree2.mp4',\n",
       " 'Valorant 2020.12.18 - 03.30.24.16.DVR.mp4',\n",
       " 'guardian tap spree.mp4',\n",
       " 'Valorant 2020.12.18 - 02.23.42.11.DVR.mp4',\n",
       " 'Valorant 2020.12.18 - 03.48.16.19.DVR.mp4',\n",
       " 'opspree3.mp4',\n",
       " 'Valorant 2020.12.18 - 02.55.04.15.DVR.mp4',\n",
       " 'Valorant 2020.12.18 - 02.35.00.14.DVR.mp4',\n",
       " 'Valorant 2020.12.18 - 03.32.14.17.DVR.mp4',\n",
       " 'Valorant 2020.12.18 - 02.31.29.12.DVR.mp4',\n",
       " 'Valorant 2020.12.18 - 02.33.33.13.DVR.mp4',\n",
       " 'Valorant 2020.12.18 - 02.22.24.10.DVR.mp4',\n",
       " 'Valorant 2020.12.18 - 03.52.11.20.DVR.mp4',\n",
       " 'Valorant 2020.12.18 - 03.34.20.18.DVR.mp4',\n",
       " 'op spree.mp4',\n",
       " 'shotgun spree.mp4']"
      ]
     },
     "execution_count": 14,
     "metadata": {},
     "output_type": "execute_result"
    }
   ],
   "source": [
    "list"
   ]
  },
  {
   "cell_type": "code",
   "execution_count": 22,
   "metadata": {},
   "outputs": [
    {
     "name": "stderr",
     "output_type": "stream",
     "text": [
      "                                                                \n",
      "t:  41%|████      | 3702/9007 [55:33<02:24, 36.66it/s, now=None]\n",
      "t:  45%|████▍     | 4041/9017 [50:23<04:27, 18.59it/s, now=None]\u001b[A"
     ]
    },
    {
     "name": "stdout",
     "output_type": "stream",
     "text": [
      "Moviepy - Running:\n",
      ">>> \"+ \" \".join(cmd)\n"
     ]
    },
    {
     "name": "stderr",
     "output_type": "stream",
     "text": [
      "                                                                \n",
      "t:  41%|████      | 3702/9007 [55:35<02:24, 36.66it/s, now=None]\n",
      "                                                                \u001b[A\n",
      "t:  41%|████      | 3702/9007 [55:35<02:24, 36.66it/s, now=None]\n",
      "t:  45%|████▍     | 4041/9017 [50:24<04:27, 18.59it/s, now=None]\u001b[A"
     ]
    },
    {
     "name": "stdout",
     "output_type": "stream",
     "text": [
      "Moviepy - Command successful\n",
      "Moviepy - Running:\n",
      ">>> \"+ \" \".join(cmd)\n"
     ]
    },
    {
     "name": "stderr",
     "output_type": "stream",
     "text": [
      "                                                                \n",
      "t:  41%|████      | 3702/9007 [55:36<02:24, 36.66it/s, now=None]\n",
      "                                                                \u001b[A\n",
      "t:  41%|████      | 3702/9007 [55:36<02:24, 36.66it/s, now=None]\n",
      "t:  45%|████▍     | 4041/9017 [50:26<04:27, 18.59it/s, now=None]\u001b[A"
     ]
    },
    {
     "name": "stdout",
     "output_type": "stream",
     "text": [
      "Moviepy - Command successful\n",
      "Moviepy - Running:\n",
      ">>> \"+ \" \".join(cmd)\n"
     ]
    },
    {
     "name": "stderr",
     "output_type": "stream",
     "text": [
      "                                                                \n",
      "t:  41%|████      | 3702/9007 [55:37<02:24, 36.66it/s, now=None]\n",
      "                                                                \u001b[A\n",
      "t:  41%|████      | 3702/9007 [55:37<02:24, 36.66it/s, now=None]\n",
      "t:  45%|████▍     | 4041/9017 [50:27<04:27, 18.59it/s, now=None]\u001b[A"
     ]
    },
    {
     "name": "stdout",
     "output_type": "stream",
     "text": [
      "Moviepy - Command successful\n",
      "Moviepy - Running:\n",
      ">>> \"+ \" \".join(cmd)\n"
     ]
    },
    {
     "name": "stderr",
     "output_type": "stream",
     "text": [
      "                                                                \n",
      "t:  41%|████      | 3702/9007 [55:38<02:24, 36.66it/s, now=None]\n",
      "                                                                \u001b[A\n",
      "t:  41%|████      | 3702/9007 [55:38<02:24, 36.66it/s, now=None]\n",
      "t:  45%|████▍     | 4041/9017 [50:28<04:27, 18.59it/s, now=None]\u001b[A"
     ]
    },
    {
     "name": "stdout",
     "output_type": "stream",
     "text": [
      "Moviepy - Command successful\n",
      "Moviepy - Running:\n",
      ">>> \"+ \" \".join(cmd)\n"
     ]
    },
    {
     "name": "stderr",
     "output_type": "stream",
     "text": [
      "                                                                \n",
      "t:  41%|████      | 3702/9007 [55:38<02:24, 36.66it/s, now=None]\n",
      "                                                                \u001b[A\n",
      "t:  41%|████      | 3702/9007 [55:38<02:24, 36.66it/s, now=None]\n",
      "t:  45%|████▍     | 4041/9017 [50:28<04:27, 18.59it/s, now=None]\u001b[A"
     ]
    },
    {
     "name": "stdout",
     "output_type": "stream",
     "text": [
      "Moviepy - Command successful\n",
      "Moviepy - Running:\n",
      ">>> \"+ \" \".join(cmd)\n"
     ]
    },
    {
     "name": "stderr",
     "output_type": "stream",
     "text": [
      "                                                                \n",
      "t:  41%|████      | 3702/9007 [55:40<02:24, 36.66it/s, now=None]\n",
      "                                                                \u001b[A\n",
      "t:  41%|████      | 3702/9007 [55:40<02:24, 36.66it/s, now=None]\n",
      "t:  45%|████▍     | 4041/9017 [50:29<04:27, 18.59it/s, now=None]\u001b[A"
     ]
    },
    {
     "name": "stdout",
     "output_type": "stream",
     "text": [
      "Moviepy - Command successful\n",
      "Moviepy - Running:\n",
      ">>> \"+ \" \".join(cmd)\n"
     ]
    },
    {
     "name": "stderr",
     "output_type": "stream",
     "text": [
      "                                                                \n",
      "t:  41%|████      | 3702/9007 [55:41<02:24, 36.66it/s, now=None]\n",
      "                                                                \u001b[A\n",
      "t:  41%|████      | 3702/9007 [55:41<02:24, 36.66it/s, now=None]\n",
      "t:  45%|████▍     | 4041/9017 [50:30<04:27, 18.59it/s, now=None]\u001b[A"
     ]
    },
    {
     "name": "stdout",
     "output_type": "stream",
     "text": [
      "Moviepy - Command successful\n",
      "Moviepy - Running:\n",
      ">>> \"+ \" \".join(cmd)\n"
     ]
    },
    {
     "name": "stderr",
     "output_type": "stream",
     "text": [
      "                                                                \n",
      "t:  41%|████      | 3702/9007 [55:41<02:24, 36.66it/s, now=None]\n",
      "                                                                \u001b[A\n",
      "t:  41%|████      | 3702/9007 [55:41<02:24, 36.66it/s, now=None]\n",
      "t:  45%|████▍     | 4041/9017 [50:31<04:27, 18.59it/s, now=None]\u001b[A"
     ]
    },
    {
     "name": "stdout",
     "output_type": "stream",
     "text": [
      "Moviepy - Command successful\n",
      "Moviepy - Running:\n",
      ">>> \"+ \" \".join(cmd)\n"
     ]
    },
    {
     "name": "stderr",
     "output_type": "stream",
     "text": [
      "                                                                \n",
      "t:  41%|████      | 3702/9007 [55:42<02:24, 36.66it/s, now=None]\n",
      "                                                                \u001b[A\n",
      "t:  41%|████      | 3702/9007 [55:42<02:24, 36.66it/s, now=None]\n",
      "t:  45%|████▍     | 4041/9017 [50:32<04:27, 18.59it/s, now=None]\u001b[A"
     ]
    },
    {
     "name": "stdout",
     "output_type": "stream",
     "text": [
      "Moviepy - Command successful\n",
      "Moviepy - Running:\n",
      ">>> \"+ \" \".join(cmd)\n"
     ]
    },
    {
     "name": "stderr",
     "output_type": "stream",
     "text": [
      "                                                                \n",
      "t:  41%|████      | 3702/9007 [55:43<02:24, 36.66it/s, now=None]\n",
      "                                                                \u001b[A\n",
      "t:  41%|████      | 3702/9007 [55:43<02:24, 36.66it/s, now=None]\n",
      "t:  45%|████▍     | 4041/9017 [50:33<04:27, 18.59it/s, now=None]\u001b[A"
     ]
    },
    {
     "name": "stdout",
     "output_type": "stream",
     "text": [
      "Moviepy - Command successful\n",
      "Moviepy - Running:\n",
      ">>> \"+ \" \".join(cmd)\n"
     ]
    },
    {
     "name": "stderr",
     "output_type": "stream",
     "text": [
      "                                                                \n",
      "t:  41%|████      | 3702/9007 [55:44<02:24, 36.66it/s, now=None]\n",
      "                                                                \u001b[A\n",
      "t:  41%|████      | 3702/9007 [55:44<02:24, 36.66it/s, now=None]\n",
      "t:  45%|████▍     | 4041/9017 [50:34<04:27, 18.59it/s, now=None]\u001b[A"
     ]
    },
    {
     "name": "stdout",
     "output_type": "stream",
     "text": [
      "Moviepy - Command successful\n",
      "Moviepy - Running:\n",
      ">>> \"+ \" \".join(cmd)\n"
     ]
    },
    {
     "name": "stderr",
     "output_type": "stream",
     "text": [
      "                                                                \n",
      "t:  41%|████      | 3702/9007 [55:45<02:24, 36.66it/s, now=None]\n",
      "                                                                \u001b[A\n",
      "t:  41%|████      | 3702/9007 [55:45<02:24, 36.66it/s, now=None]\n",
      "t:  45%|████▍     | 4041/9017 [50:35<04:27, 18.59it/s, now=None]\u001b[A"
     ]
    },
    {
     "name": "stdout",
     "output_type": "stream",
     "text": [
      "Moviepy - Command successful\n",
      "Moviepy - Running:\n",
      ">>> \"+ \" \".join(cmd)\n"
     ]
    },
    {
     "name": "stderr",
     "output_type": "stream",
     "text": [
      "                                                                \n",
      "t:  41%|████      | 3702/9007 [55:45<02:24, 36.66it/s, now=None]\n",
      "                                                                \u001b[A\n",
      "t:  41%|████      | 3702/9007 [55:45<02:24, 36.66it/s, now=None]\n",
      "t:  45%|████▍     | 4041/9017 [50:35<04:27, 18.59it/s, now=None]\u001b[A"
     ]
    },
    {
     "name": "stdout",
     "output_type": "stream",
     "text": [
      "Moviepy - Command successful\n",
      "Moviepy - Running:\n",
      ">>> \"+ \" \".join(cmd)\n"
     ]
    },
    {
     "name": "stderr",
     "output_type": "stream",
     "text": [
      "                                                                \n",
      "t:  41%|████      | 3702/9007 [55:45<02:24, 36.66it/s, now=None]\n",
      "                                                                \u001b[A\n",
      "t:  41%|████      | 3702/9007 [55:45<02:24, 36.66it/s, now=None]\n",
      "t:  45%|████▍     | 4041/9017 [50:35<04:27, 18.59it/s, now=None]\u001b[A"
     ]
    },
    {
     "name": "stdout",
     "output_type": "stream",
     "text": [
      "Moviepy - Command successful\n",
      "Moviepy - Running:\n",
      ">>> \"+ \" \".join(cmd)\n"
     ]
    },
    {
     "name": "stderr",
     "output_type": "stream",
     "text": [
      "                                                                \n",
      "t:  41%|████      | 3702/9007 [55:46<02:24, 36.66it/s, now=None]\n",
      "                                                                \u001b[A\n",
      "t:  41%|████      | 3702/9007 [55:46<02:24, 36.66it/s, now=None]\n",
      "                                                                \u001b[A\n",
      "t:  41%|████      | 3702/9007 [55:46<02:24, 36.66it/s, now=None]\n",
      "t:  45%|████▍     | 4041/9017 [50:36<04:27, 18.59it/s, now=None]\u001b[A"
     ]
    },
    {
     "name": "stdout",
     "output_type": "stream",
     "text": [
      "Moviepy - Command successful\n",
      "Moviepy - Running:\n",
      ">>> \"+ \" \".join(cmd)\n",
      "Moviepy - Command successful\n"
     ]
    }
   ],
   "source": [
    "i=1\n",
    "x=[]\n",
    "for name in list :\n",
    "    clip=ffmpeg_extract_subclip(\"input/\"+str(name), 0, 30)\n",
    "    i+=1"
   ]
  },
  {
   "cell_type": "code",
   "execution_count": 44,
   "metadata": {
    "scrolled": true
   },
   "outputs": [
    {
     "data": {
      "text/plain": [
       "['15.mp4',\n",
       " '13.mp4',\n",
       " '14.mp4',\n",
       " '12.mp4',\n",
       " '6.mp4',\n",
       " '1.mp4',\n",
       " '10.mp4',\n",
       " '2.mp4',\n",
       " '4.mp4',\n",
       " '16.mp4',\n",
       " '3.mp4',\n",
       " '5.mp4',\n",
       " '7.mp4',\n",
       " '9.mp4',\n",
       " '11.mp4',\n",
       " '8.mp4']"
      ]
     },
     "execution_count": 44,
     "metadata": {},
     "output_type": "execute_result"
    }
   ],
   "source": [
    "list=os.listdir('output')\n",
    "list"
   ]
  },
  {
   "cell_type": "code",
   "execution_count": 43,
   "metadata": {},
   "outputs": [],
   "source": [
    "player_name = ['1.mp4':'']"
   ]
  },
  {
   "cell_type": "code",
   "execution_count": 33,
   "metadata": {},
   "outputs": [],
   "source": [
    "all_clips=[]\n",
    "for i in list : \n",
    "    single_clip=VideoFileClip(\"output/\"+str(i))\n",
    "    all_clips.append(single_clip)"
   ]
  },
  {
   "cell_type": "code",
   "execution_count": 38,
   "metadata": {},
   "outputs": [],
   "source": [
    "final=concatenate_videoclips(all_clips,method='compose')"
   ]
  },
  {
   "cell_type": "code",
   "execution_count": 39,
   "metadata": {},
   "outputs": [
    {
     "name": "stderr",
     "output_type": "stream",
     "text": [
      "chunk:   0%|          | 50/10591 [00:00<00:21, 494.79it/s, now=None]"
     ]
    },
    {
     "name": "stdout",
     "output_type": "stream",
     "text": [
      "Moviepy - Building video single_vdo/omen.mp4.\n",
      "MoviePy - Writing audio in omenTEMP_MPY_wvf_snd.mp3\n"
     ]
    },
    {
     "name": "stderr",
     "output_type": "stream",
     "text": [
      "t:   0%|          | 2/11528 [00:00<14:25, 13.32it/s, now=None]          "
     ]
    },
    {
     "name": "stdout",
     "output_type": "stream",
     "text": [
      "MoviePy - Done.\n",
      "Moviepy - Writing video single_vdo/omen.mp4\n",
      "\n"
     ]
    },
    {
     "name": "stderr",
     "output_type": "stream",
     "text": [
      "                                                                  \r"
     ]
    },
    {
     "name": "stdout",
     "output_type": "stream",
     "text": [
      "Moviepy - Done !\n",
      "Moviepy - video ready single_vdo/omen.mp4\n"
     ]
    }
   ],
   "source": [
    "final.to_videofile(\"single_vdo/omen.mp4\", fps=24, remove_temp=False)"
   ]
  },
  {
   "cell_type": "code",
   "execution_count": null,
   "metadata": {},
   "outputs": [],
   "source": []
  }
 ],
 "metadata": {
  "kernelspec": {
   "display_name": "Python 3",
   "language": "python",
   "name": "python3"
  },
  "language_info": {
   "codemirror_mode": {
    "name": "ipython",
    "version": 3
   },
   "file_extension": ".py",
   "mimetype": "text/x-python",
   "name": "python",
   "nbconvert_exporter": "python",
   "pygments_lexer": "ipython3",
   "version": "3.8.5"
  }
 },
 "nbformat": 4,
 "nbformat_minor": 4
}
