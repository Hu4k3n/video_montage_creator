{
 "cells": [
  {
   "cell_type": "code",
   "execution_count": 1,
   "metadata": {},
   "outputs": [],
   "source": [
    "from moviepy.video.io.ffmpeg_tools import ffmpeg_extract_subclip\n",
    "from moviepy.editor import VideoFileClip\n",
    "\n",
    "from moviepy.video.io.VideoFileClip import VideoFileClip"
   ]
  },
  {
   "cell_type": "code",
   "execution_count": 2,
   "metadata": {},
   "outputs": [],
   "source": [
    "import os\n",
    "from os import walk \n",
    "from moviepy.editor import *"
   ]
  },
  {
   "cell_type": "code",
   "execution_count": 3,
   "metadata": {},
   "outputs": [],
   "source": [
    "list=os.listdir('input')"
   ]
  },
  {
   "cell_type": "code",
   "execution_count": 4,
   "metadata": {
    "scrolled": false
   },
   "outputs": [
    {
     "data": {
      "text/plain": [
       "['Valorant 2021.02.26 - 02.05.37.03.DVR.mp4',\n",
       " 'Valorant 2021.02.26 - 02.33.42.04.DVR.mp4',\n",
       " 'Valorant 2021.02.27 - 01.05.07.04.DVR.mp4',\n",
       " 'Valorant 2021.02.27 - 01.59.53.05.DVR.mp4',\n",
       " 'Valorant 2021.02.27 - 03.34.51.06.DVR.mp4',\n",
       " 'Valorant 2021.02.27 - 03.41.11.07.DVR.mp4',\n",
       " 'Valorant 2021.02.28 - 23.41.04.02.DVR.mp4',\n",
       " 'Valorant 2021.02.28 - 23.52.14.03.DVR.mp4',\n",
       " 'Valorant 2021.03.02 - 01.19.05.02.DVR.mp4',\n",
       " 'Valorant 2021.03.02 - 01.25.28.03.DVR.mp4',\n",
       " 'Valorant 2021.03.16 - 17.28.18.02.DVR.mp4',\n",
       " 'Valorant 2021.03.31 - 16.21.53.03.DVR.mp4',\n",
       " 'Valorant 2021.04.04 - 01.18.50.02.DVR.mp4',\n",
       " 'Valorant 2021.04.04 - 02.52.50.08.DVR.mp4',\n",
       " 'Valorant 2021.04.10 - 02.36.17.02.DVR.mp4',\n",
       " 'Valorant 2021.05.11 - 00.57.40.02.DVR.mp4',\n",
       " 'Valorant 2021.05.11 - 01.08.44.03.DVR.mp4',\n",
       " 'Valorant 2021.05.11 - 01.10.09.04.DVR.mp4',\n",
       " 'Valorant 2021.05.11 - 01.11.37.05.DVR.mp4',\n",
       " 'Valorant 2021.05.11 - 02.10.26.06.DVR.mp4']"
      ]
     },
     "execution_count": 4,
     "metadata": {},
     "output_type": "execute_result"
    }
   ],
   "source": [
    "list"
   ]
  },
  {
   "cell_type": "code",
   "execution_count": 5,
   "metadata": {
    "scrolled": true
   },
   "outputs": [
    {
     "name": "stdout",
     "output_type": "stream",
     "text": [
      "input/Valorant 2021.02.26 - 02.05.37.03.DVR.mp4\n",
      "start\n",
      "1.37\n",
      "end\n",
      "1.45\n",
      "input/Valorant 2021.02.26 - 02.33.42.04.DVR.mp4\n",
      "start\n",
      "1.43\n",
      "end\n",
      "1.52\n",
      "input/Valorant 2021.02.27 - 01.05.07.04.DVR.mp4\n",
      "start\n",
      "1.23\n",
      "end\n",
      "1.48\n",
      "input/Valorant 2021.02.27 - 01.59.53.05.DVR.mp4\n",
      "start\n",
      "1.31\n",
      "end\n",
      "1.55\n",
      "input/Valorant 2021.02.27 - 03.34.51.06.DVR.mp4\n",
      "start\n",
      "1.10\n",
      "end\n",
      "1.19\n",
      "input/Valorant 2021.02.27 - 03.41.11.07.DVR.mp4\n",
      "start\n",
      "1.47\n",
      "end\n",
      "1.55\n",
      "input/Valorant 2021.02.28 - 23.41.04.02.DVR.mp4\n",
      "start\n",
      "0.12\n",
      "end\n",
      "0.17\n",
      "input/Valorant 2021.02.28 - 23.52.14.03.DVR.mp4\n",
      "start\n",
      "1.34\n",
      "end\n",
      "1.51\n",
      "input/Valorant 2021.03.02 - 01.19.05.02.DVR.mp4\n",
      "start\n",
      "1.40\n",
      "end\n",
      "1.51\n",
      "input/Valorant 2021.03.02 - 01.25.28.03.DVR.mp4\n",
      "start\n",
      "1.11\n",
      "end\n",
      "1.55\n",
      "input/Valorant 2021.03.16 - 17.28.18.02.DVR.mp4\n",
      "start\n",
      "0.53\n",
      "end\n",
      "0.58\n",
      "input/Valorant 2021.03.31 - 16.21.53.03.DVR.mp4\n",
      "start\n",
      "0.48\n",
      "end\n",
      "1.15\n",
      "input/Valorant 2021.04.04 - 01.18.50.02.DVR.mp4\n",
      "start\n",
      "1.37\n",
      "end\n",
      "1.45\n",
      "input/Valorant 2021.04.04 - 02.52.50.08.DVR.mp4\n",
      "start\n",
      "1.26\n",
      "end\n",
      "1.44\n",
      "input/Valorant 2021.04.10 - 02.36.17.02.DVR.mp4\n",
      "start\n",
      "1.45\n",
      "end\n",
      "1.59\n",
      "input/Valorant 2021.05.11 - 00.57.40.02.DVR.mp4\n",
      "start\n",
      "1.21\n",
      "end\n",
      "1.51\n",
      "input/Valorant 2021.05.11 - 01.08.44.03.DVR.mp4\n",
      "start\n",
      "0.40\n",
      "end\n",
      "1.26\n",
      "input/Valorant 2021.05.11 - 01.10.09.04.DVR.mp4\n",
      "start\n",
      "0.46\n",
      "end\n",
      "1.14\n",
      "input/Valorant 2021.05.11 - 01.11.37.05.DVR.mp4\n",
      "start\n",
      "0.58\n",
      "end\n",
      "1.06\n",
      "input/Valorant 2021.05.11 - 02.10.26.06.DVR.mp4\n",
      "start\n",
      "1.18\n",
      "end\n",
      "1.49\n"
     ]
    }
   ],
   "source": [
    "i=1\n",
    "start_time=[]\n",
    "end_time=[]\n",
    "for name in list :\n",
    "    vidPath=\"input/\"+name\n",
    "    print(vidPath)\n",
    "    print(\"start\")\n",
    "    start_time.append(input())\n",
    "    print(\"end\")\n",
    "    end_time.append(input()) \n",
    "    i+=1"
   ]
  },
  {
   "cell_type": "code",
   "execution_count": 6,
   "metadata": {},
   "outputs": [
    {
     "data": {
      "text/plain": [
       "['1.37',\n",
       " '1.43',\n",
       " '1.23',\n",
       " '1.31',\n",
       " '1.10',\n",
       " '1.47',\n",
       " '0.12',\n",
       " '1.34',\n",
       " '1.40',\n",
       " '1.11',\n",
       " '0.53',\n",
       " '0.48',\n",
       " '1.37',\n",
       " '1.26',\n",
       " '1.45',\n",
       " '1.21',\n",
       " '0.40',\n",
       " '0.46',\n",
       " '0.58',\n",
       " '1.18']"
      ]
     },
     "execution_count": 6,
     "metadata": {},
     "output_type": "execute_result"
    }
   ],
   "source": [
    "start_time\n"
   ]
  },
  {
   "cell_type": "code",
   "execution_count": 7,
   "metadata": {},
   "outputs": [
    {
     "data": {
      "text/plain": [
       "['1.45',\n",
       " '1.52',\n",
       " '1.48',\n",
       " '1.55',\n",
       " '1.19',\n",
       " '1.55',\n",
       " '0.17',\n",
       " '1.51',\n",
       " '1.51',\n",
       " '1.55',\n",
       " '0.58',\n",
       " '1.15',\n",
       " '1.45',\n",
       " '1.44',\n",
       " '1.59',\n",
       " '1.51',\n",
       " '1.26',\n",
       " '1.14',\n",
       " '1.06',\n",
       " '1.49']"
      ]
     },
     "execution_count": 7,
     "metadata": {},
     "output_type": "execute_result"
    }
   ],
   "source": [
    "end_time"
   ]
  },
  {
   "cell_type": "code",
   "execution_count": 8,
   "metadata": {
    "scrolled": true
   },
   "outputs": [
    {
     "name": "stdout",
     "output_type": "stream",
     "text": [
      "97\n",
      "105\n",
      "Moviepy - Running:\n",
      ">>> \"+ \" \".join(cmd)\n",
      "Moviepy - Command successful\n",
      "103\n",
      "112\n",
      "Moviepy - Running:\n",
      ">>> \"+ \" \".join(cmd)\n",
      "Moviepy - Command successful\n",
      "83\n",
      "108\n",
      "Moviepy - Running:\n",
      ">>> \"+ \" \".join(cmd)\n",
      "Moviepy - Command successful\n",
      "91\n",
      "115\n",
      "Moviepy - Running:\n",
      ">>> \"+ \" \".join(cmd)\n",
      "Moviepy - Command successful\n",
      "70\n",
      "79\n",
      "Moviepy - Running:\n",
      ">>> \"+ \" \".join(cmd)\n",
      "Moviepy - Command successful\n",
      "107\n",
      "115\n",
      "Moviepy - Running:\n",
      ">>> \"+ \" \".join(cmd)\n",
      "Moviepy - Command successful\n",
      "12\n",
      "17\n",
      "Moviepy - Running:\n",
      ">>> \"+ \" \".join(cmd)\n",
      "Moviepy - Command successful\n",
      "94\n",
      "111\n",
      "Moviepy - Running:\n",
      ">>> \"+ \" \".join(cmd)\n",
      "Moviepy - Command successful\n",
      "100\n",
      "111\n",
      "Moviepy - Running:\n",
      ">>> \"+ \" \".join(cmd)\n",
      "Moviepy - Command successful\n",
      "71\n",
      "115\n",
      "Moviepy - Running:\n",
      ">>> \"+ \" \".join(cmd)\n",
      "Moviepy - Command successful\n",
      "53\n",
      "58\n",
      "Moviepy - Running:\n",
      ">>> \"+ \" \".join(cmd)\n",
      "Moviepy - Command successful\n",
      "48\n",
      "75\n",
      "Moviepy - Running:\n",
      ">>> \"+ \" \".join(cmd)\n",
      "Moviepy - Command successful\n",
      "97\n",
      "105\n",
      "Moviepy - Running:\n",
      ">>> \"+ \" \".join(cmd)\n",
      "Moviepy - Command successful\n",
      "86\n",
      "104\n",
      "Moviepy - Running:\n",
      ">>> \"+ \" \".join(cmd)\n",
      "Moviepy - Command successful\n",
      "105\n",
      "119\n",
      "Moviepy - Running:\n",
      ">>> \"+ \" \".join(cmd)\n",
      "Moviepy - Command successful\n",
      "81\n",
      "111\n",
      "Moviepy - Running:\n",
      ">>> \"+ \" \".join(cmd)\n",
      "Moviepy - Command successful\n",
      "40\n",
      "86\n",
      "Moviepy - Running:\n",
      ">>> \"+ \" \".join(cmd)\n",
      "Moviepy - Command successful\n",
      "46\n",
      "74\n",
      "Moviepy - Running:\n",
      ">>> \"+ \" \".join(cmd)\n",
      "Moviepy - Command successful\n",
      "58\n",
      "66\n",
      "Moviepy - Running:\n",
      ">>> \"+ \" \".join(cmd)\n",
      "Moviepy - Command successful\n",
      "78\n",
      "109\n",
      "Moviepy - Running:\n",
      ">>> \"+ \" \".join(cmd)\n",
      "Moviepy - Command successful\n"
     ]
    }
   ],
   "source": [
    "i=0\n",
    "x=[]\n",
    "for name in list :\n",
    "    start_min,start_sec=start_time[i].split('.')\n",
    "    end_min,end_sec=end_time[i].split('.')\n",
    "    start_min=int(start_min)\n",
    "    start_sec=int(start_sec)\n",
    "    end_min=int(end_min)\n",
    "    end_sec=int(end_sec)\n",
    "    start=start_min*60+start_sec\n",
    "    end=end_min*60+end_sec\n",
    "    print(start)\n",
    "    print(end)\n",
    "    \n",
    "    clip=ffmpeg_extract_subclip(\"input/\"+str(name), start, end)\n",
    "    i+=1"
   ]
  },
  {
   "cell_type": "code",
   "execution_count": null,
   "metadata": {},
   "outputs": [],
   "source": []
  },
  {
   "cell_type": "code",
   "execution_count": 11,
   "metadata": {
    "scrolled": true
   },
   "outputs": [
    {
     "data": {
      "text/plain": [
       "['1.mp4',\n",
       " '10.mp4',\n",
       " '11.mp4',\n",
       " '12.mp4',\n",
       " '13.mp4',\n",
       " '14.mp4',\n",
       " '15.mp4',\n",
       " '16.mp4',\n",
       " '17.mp4',\n",
       " '18.mp4',\n",
       " '19.mp4',\n",
       " '2.mp4',\n",
       " '20.mp4',\n",
       " '3.mp4',\n",
       " '4.mp4',\n",
       " '5.mp4',\n",
       " '6.mp4',\n",
       " '7.mp4',\n",
       " '8.mp4',\n",
       " '9.mp4']"
      ]
     },
     "execution_count": 11,
     "metadata": {},
     "output_type": "execute_result"
    }
   ],
   "source": [
    "list=os.listdir('clips')\n",
    "list"
   ]
  },
  {
   "cell_type": "code",
   "execution_count": 12,
   "metadata": {},
   "outputs": [],
   "source": [
    "all_clips=[]\n",
    "for i in list : \n",
    "    single_clip=VideoFileClip(\"clips/\"+str(i))\n",
    "    all_clips.append(single_clip)"
   ]
  },
  {
   "cell_type": "code",
   "execution_count": 13,
   "metadata": {},
   "outputs": [],
   "source": [
    "final=concatenate_videoclips(all_clips,method='compose')"
   ]
  },
  {
   "cell_type": "code",
   "execution_count": 14,
   "metadata": {},
   "outputs": [
    {
     "name": "stderr",
     "output_type": "stream",
     "text": [
      "chunk:   1%|▏                                   | 51/8291 [00:00<00:18, 456.75it/s, now=None]"
     ]
    },
    {
     "name": "stdout",
     "output_type": "stream",
     "text": [
      "Moviepy - Building video single_vdo/final.mp4.\n",
      "MoviePy - Writing audio in finalTEMP_MPY_wvf_snd.mp3\n"
     ]
    },
    {
     "name": "stderr",
     "output_type": "stream",
     "text": [
      "t:   0%|                                         | 5/16920 [00:00<05:47, 48.67it/s, now=None]"
     ]
    },
    {
     "name": "stdout",
     "output_type": "stream",
     "text": [
      "MoviePy - Done.\n",
      "Moviepy - Writing video single_vdo/final.mp4\n",
      "\n"
     ]
    },
    {
     "name": "stderr",
     "output_type": "stream",
     "text": [
      "                                                                                             \r"
     ]
    },
    {
     "name": "stdout",
     "output_type": "stream",
     "text": [
      "Moviepy - Done !\n",
      "Moviepy - video ready single_vdo/final.mp4\n"
     ]
    }
   ],
   "source": [
    "final.to_videofile(\"single_vdo/final.mp4\", fps=60, remove_temp=False)"
   ]
  },
  {
   "cell_type": "code",
   "execution_count": null,
   "metadata": {},
   "outputs": [],
   "source": []
  }
 ],
 "metadata": {
  "kernelspec": {
   "display_name": "Python 3",
   "language": "python",
   "name": "python3"
  },
  "language_info": {
   "codemirror_mode": {
    "name": "ipython",
    "version": 3
   },
   "file_extension": ".py",
   "mimetype": "text/x-python",
   "name": "python",
   "nbconvert_exporter": "python",
   "pygments_lexer": "ipython3",
   "version": "3.9.5"
  }
 },
 "nbformat": 4,
 "nbformat_minor": 4
}
